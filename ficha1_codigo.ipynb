{
 "cells": [
  {
   "cell_type": "code",
   "execution_count": 1,
   "id": "359c5336",
   "metadata": {
    "scrolled": false
   },
   "outputs": [
    {
     "name": "stdout",
     "output_type": "stream",
     "text": [
      "Set parameter Username\n",
      "Academic license - for non-commercial use only - expires 2022-12-11\n"
     ]
    }
   ],
   "source": [
    "import escher\n",
    "from mewpy.simulation import get_simulator\n",
    "from cobra.io import read_sbml_model\n",
    "\n",
    "\n",
    "model = read_sbml_model(\"iML1515.xml\")\n",
    "simul = get_simulator(model)"
   ]
  },
  {
   "cell_type": "code",
   "execution_count": 2,
   "id": "ccf15cad",
   "metadata": {},
   "outputs": [],
   "source": [
    "result = simul.simulate(method=\"pFBA\")"
   ]
  },
  {
   "cell_type": "markdown",
   "id": "436beb1e",
   "metadata": {},
   "source": [
    "O fluxo de da estirpe wild-type dá 0, ou seja, em situações normais, não produz lactato."
   ]
  },
  {
   "cell_type": "code",
   "execution_count": 3,
   "id": "d01cc003",
   "metadata": {
    "scrolled": true
   },
   "outputs": [
    {
     "name": "stdout",
     "output_type": "stream",
     "text": [
      "Metabolites: 1877\n",
      "Reactions: 2712\n",
      "Genes: 1516\n"
     ]
    }
   ],
   "source": [
    "simul.summary()"
   ]
  },
  {
   "cell_type": "code",
   "execution_count": 4,
   "id": "d1eaa360",
   "metadata": {},
   "outputs": [
    {
     "name": "stdout",
     "output_type": "stream",
     "text": [
      "   Reaction ID  Flux rate\n",
      "0  EX_lac__L_e        0.0\n",
      "1  EX_lac__D_e        0.0\n",
      "\n",
      "     Reaction ID  Flux rate\n",
      "0      EX_glcn_e        0.0\n",
      "1    EX_glc__D_e      -10.0\n",
      "2     EX_glcur_e        0.0\n",
      "3   EX_2ddglcn_e        0.0\n",
      "4      EX_glcr_e        0.0\n",
      "5   EX_glcur1p_e        0.0\n",
      "6  EX_udpglcur_e        0.0\n",
      "7    EX_5dglcn_e        0.0\n",
      "8     EX_2dglc_e        0.0\n",
      "9  EX_metglcur_e        0.0\n",
      "\n",
      "                      Reaction ID  Flux rate\n",
      "0  BIOMASS_Ec_iML1515_core_75p37M   0.876997\n",
      "1    BIOMASS_Ec_iML1515_WT_75p37M   0.000000\n",
      "\n",
      "  Reaction ID  Flux rate\n",
      "0    EX_co2_e  24.003293\n",
      "1   EX_h2o2_e   0.000000\n",
      "2    EX_no2_e   0.000000\n",
      "3    EX_so2_e   0.000000\n",
      "4     EX_o2_e -22.131763\n",
      "5    EX_o2s_e   0.000000\n"
     ]
    }
   ],
   "source": [
    "print(result.find(\"lac\"))\n",
    "print()\n",
    "print(result.find(\"glc\"))\n",
    "print()\n",
    "print(result.find(\"BIO\"))\n",
    "print()\n",
    "print(result.find(\"o2\"))"
   ]
  },
  {
   "cell_type": "markdown",
   "id": "877ab60d",
   "metadata": {},
   "source": [
    "O lactato tem 2 códigos:\n",
    "- **lac__D_e** (D-lactato)\n",
    "- **lac__L_e** (L-lactato)<br>\n",
    "\n",
    "Indica que o fluxo de ambos os compostos na estirpe *wt* é 0.<br>\n",
    "Ficamos a saber também os códigos do fluxo de **glucose**, de **biomassa** e de **oxigénio**.<br><br>\n",
    "\n",
    "\n",
    "# 1/2) Produção *wt* de Lactato e valores máximos e mínimos\n",
    "\n",
    "\n",
    "Podemos agora aplicar as restrições à simulação:"
   ]
  },
  {
   "cell_type": "code",
   "execution_count": 12,
   "id": "37bbac88",
   "metadata": {},
   "outputs": [],
   "source": [
    "const = {'EX_glc__D_e'  : (-15.0, 100000.0),\n",
    "           'EX_o2_e' : (0,10000)}\n",
    "\n",
    "result = simul.simulate(method=\"pFBA\", constraints = const)"
   ]
  },
  {
   "cell_type": "code",
   "execution_count": 16,
   "id": "9957095a",
   "metadata": {
    "scrolled": true
   },
   "outputs": [
    {
     "name": "stdout",
     "output_type": "stream",
     "text": [
      "   Reaction ID  Flux rate\n",
      "0  EX_lac__L_e        0.0\n",
      "{'EX_lac__L_e': [0.0, 1.114181818181784]}\n",
      "\n",
      "   Reaction ID  Flux rate\n",
      "0  EX_lac__D_e        0.0\n",
      "{'EX_lac__D_e': [0.0, 12.255999999999567]}\n",
      "\n",
      "                      Reaction ID  Flux rate\n",
      "0  BIOMASS_Ec_iML1515_core_75p37M   0.266098\n"
     ]
    }
   ],
   "source": [
    "const = {'EX_glc__D_e'  : (-15.0, 100000.0),\n",
    "           'EX_o2_e' : (0,10000)}\n",
    "\n",
    "print(result.find(\"EX_lac__L_e\"))\n",
    "print(simul.FVA(reactions=[\"EX_lac__L_e\"], constraints = const))\n",
    "print()\n",
    "print(result.find(\"EX_lac__D_e\"))\n",
    "print(simul.FVA(reactions=[\"EX_lac__D_e\"], constraints = const))\n",
    "print()\n",
    "print(result.find(\"BIOMASS_Ec_iML1515_core_75p37M\")) #Para comparar com o fluxo de biomassa após as alterações"
   ]
  },
  {
   "cell_type": "markdown",
   "id": "8c3ad576",
   "metadata": {},
   "source": [
    "Aqui vemos que o valor máximo do fluxo de *EX_lac__L_e* é **1.11** e o de *EX_lac__D_e* é **12.26** "
   ]
  },
  {
   "cell_type": "markdown",
   "id": "51e5b5b7",
   "metadata": {},
   "source": [
    "# 3a) Melhorar fluxo de Lactato com *knockout* de um gene\n",
    "\n",
    "Vamos agora ver se há melhorias no fluxo destas 2 reações quando se faz um knockout de um gene de cada vez.<br>\n",
    "Definir: \"**c = problem.solution_to_constraints({** gene **:0})**\" )"
   ]
  },
  {
   "cell_type": "code",
   "execution_count": 16,
   "id": "193e63d4",
   "metadata": {},
   "outputs": [],
   "source": [
    "from mewpy.problems import GKOProblem\n",
    "problem = GKOProblem(model, [])\n",
    "\n",
    "best_val_l = []\n",
    "best_val_d = []\n",
    "\n",
    "for g in simul.genes:\n",
    "    c = problem.solution_to_constraints({g:0, **const})\n",
    "    result = simul.simulate(method=\"pFBA\", constraints=c)\n",
    "    if result.fluxes[\"EX_lac__L_e\"] != 0:\n",
    "        best_val_l.append((g, result.fluxes[\"EX_lac__L_e\"]))\n",
    "    if result.fluxes[\"EX_lac__D_e\"] != 0:\n",
    "        best_val_d.append((g, result.fluxes[\"EX_lac__D_e\"]))"
   ]
  },
  {
   "cell_type": "code",
   "execution_count": 17,
   "id": "4301e4ba",
   "metadata": {},
   "outputs": [
    {
     "name": "stdout",
     "output_type": "stream",
     "text": [
      "[]\n",
      "[('s0001', 6.86)]\n"
     ]
    }
   ],
   "source": [
    "print(best_val_l)\n",
    "print(best_val_d)"
   ]
  },
  {
   "cell_type": "markdown",
   "id": "8fbce8ac",
   "metadata": {},
   "source": [
    "Estes resultados permitem prever que:\n",
    "- para o EX_lac__L_e, não há melhorias de fluxo com a deleção de apenas um gene<br>\n",
    "- para o EX_lac__D_e, o fluxo melhora de 0 para **6.86** com a deleção do gene de identificador \"s0001\"<br>\n",
    "\n",
    "Vamos agora ver como é que a deleção do gene afetou a produção de biomassa"
   ]
  },
  {
   "cell_type": "code",
   "execution_count": 29,
   "id": "d69917e3",
   "metadata": {},
   "outputs": [
    {
     "data": {
      "text/plain": [
       "0.0"
      ]
     },
     "execution_count": 29,
     "metadata": {},
     "output_type": "execute_result"
    }
   ],
   "source": [
    "from mewpy.problems import GKOProblem\n",
    "\n",
    "problem = GKOProblem(model, [])\n",
    "c = problem.solution_to_constraints({\"s0001\":0})\n",
    "result = simul.simulate(method=\"pFBA\", constraints = c)\n",
    "result.fluxes[\"BIOMASS_Ec_iML1515_core_75p37M\"]"
   ]
  },
  {
   "cell_type": "markdown",
   "id": "4949a283",
   "metadata": {},
   "source": [
    "Este resultado mostra-nos que, enquanto que a deleção do gene tem o potencial de melhorar a produção de lactose, é um gene essencial para o crescimento celular. Desta forma, a knockout deste gene não seria uma boa solução."
   ]
  },
  {
   "cell_type": "markdown",
   "id": "22724e8b",
   "metadata": {},
   "source": [
    "# 3b) Procura de estratégias para melhorar fluxo de Lactato\n",
    "\n",
    "De seguida, vamos correr as simulações de otimização, usando o algoritmo EA, para cada composto (D-lactato e L-lactato) e usando as estratégias de *knockout* (**RKO**) e sub/sob-expressão (**ROU**):"
   ]
  },
  {
   "cell_type": "markdown",
   "id": "05ee409c",
   "metadata": {},
   "source": [
    "### L-lactato - ROU"
   ]
  },
  {
   "cell_type": "code",
   "execution_count": 30,
   "id": "fb90d53d",
   "metadata": {
    "scrolled": false
   },
   "outputs": [
    {
     "name": "stdout",
     "output_type": "stream",
     "text": [
      "Building modification target list.\n",
      "Running NSGAII\n"
     ]
    },
    {
     "data": {
      "image/png": "[encoded data removed]",
      "text/plain": [
       "<Figure size 432x288 with 1 Axes>"
      ]
     },
     "metadata": {
      "needs_background": "light"
     },
     "output_type": "display_data"
    },
    {
     "name": "stdout",
     "output_type": "stream",
     "text": [
      "Eval(s)|     Worst      Best    Median   Average   Std Dev|     Worst      Best    Median   Average   Std Dev|\n",
      "    100|  0.000000  0.000000  0.000000  0.000000  0.000000|  0.000000  2.925145  0.003343  0.249959  0.724617|\n",
      "    200|  0.000000  0.000000  0.000000  0.000000  0.000000|  0.003343  2.925145  0.003343  0.554515  1.011484|\n",
      "    300|  0.000000  0.000000  0.000000  0.000000  0.000000|  0.003343  2.925146  1.672944  1.322213  1.170172|\n",
      "    400|  0.000000  0.000000  0.000000  0.000000  0.000000|  1.672946  2.925150  2.507745  2.601484  0.270406|\n",
      "    500|  0.000000  0.000000  0.000000  0.000000  0.000000|  2.507745  2.925150  2.925145  2.858293  0.152993|\n",
      "    600|  0.000000  0.000000  0.000000  0.000000  0.000000|  2.925145  2.925151  2.925145  2.925146  0.000001|\n",
      "    700|  0.000000  0.000000  0.000000  0.000000  0.000000|  2.925145  2.925151  2.925145  2.925146  0.000002|\n",
      "    800|  0.000000  0.000000  0.000000  0.000000  0.000000|  2.925145  2.925151  2.925146  2.925146  0.000002|\n",
      "    900|  0.000000  0.000000  0.000000  0.000000  0.000000|  2.925145  2.925151  2.925146  2.925147  0.000002|\n",
      "   1000|  0.000000  0.000000  0.000000  0.000000  0.000000|  2.925146  2.925151  2.925146  2.925148  0.000002|\n"
     ]
    },
    {
     "name": "stderr",
     "output_type": "stream",
     "text": [
      "C:\\Users\\rober\\anaconda3\\lib\\site-packages\\cobra\\util\\solver.py:508: UserWarning: Solver status is 'infeasible'.\n",
      "  warn(f\"Solver status is '{status}'.\", UserWarning)\n"
     ]
    }
   ],
   "source": [
    "# environmental conditions\n",
    "envcond = {'EX_glc__D_e'  : (-15.0, 100000.0),\n",
    "           'EX_o2_e' : (0,100000.0)}\n",
    "\n",
    "# Define the target\n",
    "PRODUCT_ID = 'EX_lac__L_e'\n",
    "BIOMASS_ID = 'BIOMASS_Ec_iML1515_core_75p37M'\n",
    "UPTAKE_ID = 'EX_glc__D_e'\n",
    "\n",
    "# Optimization objectives\n",
    "from mewpy.optimization.evaluation import  BPCY, WYIELD\n",
    "evaluator_1 = BPCY(BIOMASS_ID, PRODUCT_ID, UPTAKE_ID, method='pFBA')\n",
    "evaluator_2 = WYIELD(BIOMASS_ID, PRODUCT_ID)\n",
    "\n",
    "#from mewpy.problems import RKOProblem\n",
    "#problem = RKOProblem(model, fevaluation=[evaluator_1, evaluator_2], envcond=envcond)\n",
    "\n",
    "from mewpy.problems import ROUProblem\n",
    "problem = ROUProblem(model, fevaluation=[evaluator_1, evaluator_2], envcond=envcond, candidate_max_size = 5)\n",
    "\n",
    "from mewpy.optimization import EA\n",
    "ea = EA(problem, max_generations= 10, visualizer=True)\n",
    "final_pop = ea.run()"
   ]
  },
  {
   "cell_type": "code",
   "execution_count": 31,
   "id": "19675a7a",
   "metadata": {
    "scrolled": false
   },
   "outputs": [
    {
     "data": {
      "text/plain": [
       "[[0.0, 2.9251454914696366];{'U23GAAT': 0.125},\n",
       " [0.0, 0.0];{'OPMEACPS': 8},\n",
       " [0.0, 2.9251454914696553];{'DGUNC': 0, 'ARGSL': 0.125, 'PGMT': 0.125, 'KDOPS': 0.25},\n",
       " [0.0, 2.9251454914696553];{'U23GAAT': 0.125, 'ARGSL': 0.125, 'PGMT': 0.125, 'KDOPS': 0.25},\n",
       " [0.0, 2.9251454914696553];{'U23GAAT': 0.125, 'DGUNC': 0, 'PGMT': 0.125, 'KDOPS': 0.25},\n",
       " [0.0, 2.9251454914696553];{'U23GAAT': 0.125, 'DGUNC': 0, 'ARGSL': 0.125, 'PGMT': 0.125},\n",
       " [0.0, 2.9251454914696553];{'U23GAAT': 0.125, 'DGUNC': 0, 'ARGSL': 0.125, 'KDOPS': 0.25},\n",
       " [0.0, 2.925145491469653];{'ARGSL': 0.125},\n",
       " [0.0, 2.9251454914696042];{'DGUNC': 0, 'SARCOX': 2, 'ARGSL': 0.125, 'DHNPA2r': 0.5},\n",
       " [0.0, 2.9251454914696042];{'U23GAAT': 0.125, 'SARCOX': 2, 'ARGSL': 0.125, 'DHNPA2r': 0.5},\n",
       " [0.0, 2.9251454914696042];{'U23GAAT': 0.125, 'DGUNC': 0, 'SARCOX': 2, 'DHNPA2r': 0.5},\n",
       " [0.0, 2.9251454914696042];{'U23GAAT': 0.125, 'DGUNC': 0, 'SARCOX': 2, 'ARGSL': 0.125},\n",
       " [0.0, 2.9251454914696042];{'U23GAAT': 0.125, 'DGUNC': 0, 'ARGSL': 0.125, 'DHNPA2r': 0.5},\n",
       " [0.0, 2.925145491469642];{'U23GAAT': 0.125, 'ACMANAptspp': 0.03125, 'DHNPA2r': 0.5, 'KDOPS': 0.125},\n",
       " [0.0, 2.925145491469642];{'EX_isetac_e': 0.03125, 'ACMANAptspp': 0.03125, 'DHNPA2r': 0.5, 'KDOPS': 0.125},\n",
       " [0.0, 2.925145491469642];{'EX_isetac_e': 0.03125, 'U23GAAT': 0.125, 'DHNPA2r': 0.5, 'KDOPS': 0.125},\n",
       " [0.0, 2.925145491469642];{'EX_isetac_e': 0.03125, 'U23GAAT': 0.125, 'ACMANAptspp': 0.03125, 'KDOPS': 0.125},\n",
       " [0.0, 2.925145491469642];{'EX_isetac_e': 0.03125, 'U23GAAT': 0.125, 'ACMANAptspp': 0.03125, 'DHNPA2r': 0.5},\n",
       " [0.0, 2.925145491469642];{'U23GAAT': 0.125, 'DHNPA2r': 0.5, 'KDOPS': 0.125},\n",
       " [0.0, 2.925145491469642];{'EX_isetac_e': 0.03125, 'DHNPA2r': 0.5, 'KDOPS': 0.125},\n",
       " [0.0, 2.925145491469642];{'EX_isetac_e': 0.03125, 'U23GAAT': 0.125, 'KDOPS': 0.125},\n",
       " [0.0, 2.925145491469642];{'EX_isetac_e': 0.03125, 'U23GAAT': 0.125, 'DHNPA2r': 0.5},\n",
       " [0.0, 2.925145491469633];{'ARGSL': 0.125, 'CD2tpp': 0},\n",
       " [0.0, 2.925145491469633];{'U23GAAT': 0.125, 'CD2tpp': 0},\n",
       " [0.0, 2.925145491469633];{'U23GAAT': 0.125, 'ARGSL': 0.125},\n",
       " [0.0, 2.9251454914696158];{'ARAI': 8, 'ARGSL': 0.125, 'ASPabcpp': 0.5, 'PTHRpp': 0},\n",
       " [0.0, 2.9251454914696158];{'U23GAAT': 0.125, 'ARAI': 8, 'ASPabcpp': 0.5, 'PTHRpp': 0},\n",
       " [0.0, 2.9251454914696158];{'U23GAAT': 0.125, 'ARAI': 8, 'ARGSL': 0.125, 'PTHRpp': 0},\n",
       " [0.0, 2.9251454914696158];{'U23GAAT': 0.125, 'ARAI': 8, 'ARGSL': 0.125, 'ASPabcpp': 0.5},\n",
       " [0.0, 2.9251454914696158];{'U23GAAT': 0.125, 'ARGSL': 0.125, 'ASPabcpp': 0.5, 'PTHRpp': 0},\n",
       " [0.0, 2.9251454914696158];{'PTHRpp': 0, 'ARGSL': 0.125},\n",
       " [0.0, 2.9251454914696158];{'U23GAAT': 0.125, 'PTHRpp': 0},\n",
       " [0.0, 2.925145491469633];{'ARGSL': 0.125, 'EX_uacgam_e': 0.25, 'CD2tpp': 0, 'HCINNMt2rpp': 16},\n",
       " [0.0, 2.925145491469633];{'U23GAAT': 0.125, 'EX_uacgam_e': 0.25, 'CD2tpp': 0, 'HCINNMt2rpp': 16},\n",
       " [0.0, 2.925145491469633];{'U23GAAT': 0.125, 'ARGSL': 0.125, 'EX_uacgam_e': 0.25, 'HCINNMt2rpp': 16},\n",
       " [0.0, 2.925145491469633];{'U23GAAT': 0.125, 'ARGSL': 0.125, 'EX_uacgam_e': 0.25, 'CD2tpp': 0},\n",
       " [0.0, 2.925145491469633];{'U23GAAT': 0.125, 'ARGSL': 0.125, 'CD2tpp': 0, 'HCINNMt2rpp': 16}]"
      ]
     },
     "execution_count": 31,
     "metadata": {},
     "output_type": "execute_result"
    }
   ],
   "source": [
    "final_pop"
   ]
  },
  {
   "cell_type": "markdown",
   "id": "458c760a",
   "metadata": {},
   "source": [
    "### L-lactato - RKO"
   ]
  },
  {
   "cell_type": "code",
   "execution_count": 32,
   "id": "822b2de5",
   "metadata": {},
   "outputs": [
    {
     "name": "stdout",
     "output_type": "stream",
     "text": [
      "Building modification target list.\n",
      "Computing essential reactions\n"
     ]
    },
    {
     "name": "stderr",
     "output_type": "stream",
     "text": [
      "100%|██████████████████████████████████████████████████████████████████████████████| 2712/2712 [04:20<00:00, 10.42it/s]\n"
     ]
    },
    {
     "name": "stdout",
     "output_type": "stream",
     "text": [
      "Running NSGAII\n"
     ]
    },
    {
     "data": {
      "image/png": "[encoded data removed]",
      "text/plain": [
       "<Figure size 432x288 with 1 Axes>"
      ]
     },
     "metadata": {
      "needs_background": "light"
     },
     "output_type": "display_data"
    },
    {
     "name": "stdout",
     "output_type": "stream",
     "text": [
      "Eval(s)|     Worst      Best    Median   Average   Std Dev|     Worst      Best    Median   Average   Std Dev|\n",
      "    100|  0.000000  0.000000  0.000000  0.000000  0.000000|  0.000000  0.003343  0.003343  0.003299  0.000339|\n",
      "    200|  0.000000  0.000000  0.000000  0.000000  0.000000|  0.003343  0.003343  0.003343  0.003343  0.000000|\n",
      "    300|  0.000000  0.000000  0.000000  0.000000  0.000000|  0.003343  0.003343  0.003343  0.003343  0.000000|\n",
      "    400|  0.000000  0.000000  0.000000  0.000000  0.000000|  0.003343  0.003343  0.003343  0.003343  0.000000|\n",
      "    500|  0.000000  0.000000  0.000000  0.000000  0.000000|  0.003343  0.003343  0.003343  0.003343  0.000000|\n",
      "    600|  0.000000  0.000000  0.000000  0.000000  0.000000|  0.003343  0.003343  0.003343  0.003343  0.000000|\n",
      "    700|  0.000000  0.000000  0.000000  0.000000  0.000000|  0.003343  0.003343  0.003343  0.003343  0.000000|\n",
      "    800|  0.000000  0.000000  0.000000  0.000000  0.000000|  0.003343  0.003343  0.003343  0.003343  0.000000|\n",
      "    900|  0.000000  0.000000  0.000000  0.000000  0.000000|  0.003343  0.003343  0.003343  0.003343  0.000000|\n",
      "   1000|  0.000000  0.000000  0.000000  0.000000  0.000000|  0.003343  0.003343  0.003343  0.003343  0.000000|\n"
     ]
    }
   ],
   "source": [
    "# environmental conditions\n",
    "envcond = {'EX_glc__D_e'  : (-15.0, 100000.0),\n",
    "           'EX_o2_e' : (0,100000.0)}\n",
    "\n",
    "# Define the target\n",
    "PRODUCT_ID = 'EX_lac__L_e'\n",
    "BIOMASS_ID = 'BIOMASS_Ec_iML1515_core_75p37M'\n",
    "UPTAKE_ID = 'EX_glc__D_e'\n",
    "\n",
    "# Optimization objectives\n",
    "from mewpy.optimization.evaluation import  BPCY, WYIELD\n",
    "evaluator_1 = BPCY(BIOMASS_ID, PRODUCT_ID, UPTAKE_ID, method='pFBA')\n",
    "evaluator_2 = WYIELD(BIOMASS_ID, PRODUCT_ID)\n",
    "\n",
    "#from mewpy.problems import RKOProblem\n",
    "#problem = RKOProblem(model, fevaluation=[evaluator_1, evaluator_2], envcond=envcond)\n",
    "\n",
    "from mewpy.problems import RKOProblem\n",
    "problem = RKOProblem(model, fevaluation=[evaluator_1, evaluator_2], envcond=envcond, candidate_max_size = 5)\n",
    "\n",
    "from mewpy.optimization import EA\n",
    "ea = EA(problem, max_generations= 10, visualizer=True)\n",
    "final_pop1 = ea.run()"
   ]
  },
  {
   "cell_type": "code",
   "execution_count": 33,
   "id": "8c48a468",
   "metadata": {},
   "outputs": [
    {
     "data": {
      "text/plain": [
       "[[0.0, 0.003342545454608725];{}]"
      ]
     },
     "execution_count": 33,
     "metadata": {},
     "output_type": "execute_result"
    }
   ],
   "source": [
    "final_pop1"
   ]
  },
  {
   "cell_type": "markdown",
   "id": "c8cc2dc9",
   "metadata": {},
   "source": [
    "### D-lactato - ROU"
   ]
  },
  {
   "cell_type": "code",
   "execution_count": 49,
   "id": "4d203a76",
   "metadata": {
    "scrolled": false
   },
   "outputs": [
    {
     "name": "stdout",
     "output_type": "stream",
     "text": [
      "Building modification target list.\n",
      "Running NSGAII\n"
     ]
    },
    {
     "data": {
      "image/png": "[encoded data removed]",
      "text/plain": [
       "<Figure size 432x288 with 1 Axes>"
      ]
     },
     "metadata": {
      "needs_background": "light"
     },
     "output_type": "display_data"
    },
    {
     "name": "stdout",
     "output_type": "stream",
     "text": [
      "Eval(s)|     Worst      Best    Median   Average   Std Dev|     Worst      Best    Median   Average   Std Dev|\n",
      "    100|  0.000000  0.353217  0.000000  0.016041  0.055804|  0.000000  8.852624  0.036768  0.704723  2.297196|\n",
      "    200|  0.000000  0.353217  0.000000  0.028922  0.072240|  0.000000  8.852624  0.036768  1.300447  3.028842|\n",
      "    300|  0.000000  0.353217  0.016332  0.065408  0.095865|  0.000000  8.852625  0.036811  3.217033  4.107857|\n",
      "    400|  0.000000  0.353217  0.122535  0.148400  0.116805|  0.000000  8.852625  8.556560  7.335623  2.802958|\n",
      "    500|  0.062891  0.353217  0.122575  0.176850  0.109802|  7.534562  8.852869  8.705248  8.449404  0.485533|\n",
      "    600|  0.062891  0.353217  0.122857  0.181994  0.109063|  7.534562  8.852869  8.705248  8.436937  0.480260|\n",
      "    700|  0.062891  0.353217  0.238508  0.202155  0.109936|  7.534562  8.852869  8.410497  8.363155  0.494312|\n",
      "    800|  0.062891  0.353217  0.238508  0.209483  0.119239|  7.534562  8.852869  8.410497  8.280302  0.559772|\n",
      "    900|  0.062891  0.361871  0.240120  0.214035  0.117109|  7.534562  8.852869  8.411475  8.266349  0.553481|\n",
      "   1000|  0.062891  0.361871  0.122825  0.146048  0.080317|  7.784488  8.852869  8.705249  8.636568  0.231683|\n",
      "   1100|  0.062891  0.361871  0.123137  0.169117  0.082145|  7.784488  8.852869  8.705248  8.572540  0.250280|\n",
      "   1200|  0.062891  0.361871  0.123137  0.173867  0.092028|  7.784488  8.852872  8.705248  8.544468  0.303901|\n",
      "   1300|  0.062891  0.361871  0.123137  0.182283  0.101188|  7.784488  8.852872  8.705248  8.504257  0.351847|\n",
      "   1400|  0.062891  0.361871  0.123137  0.180528  0.102930|  7.784488  8.852872  8.705248  8.505685  0.360317|\n",
      "   1500|  0.062891  0.361871  0.123500  0.191566  0.108298|  7.784488  8.852872  8.705248  8.462125  0.387366|\n",
      "   1600|  0.062891  0.361871  0.123533  0.191203  0.108998|  7.784488  8.852872  8.705248  8.463335  0.388915|\n",
      "   1700|  0.062891  0.361871  0.240391  0.216192  0.110090|  7.784488  8.852872  8.411476  8.375593  0.406538|\n",
      "   1800|  0.062891  0.361871  0.240391  0.215622  0.113241|  7.784488  8.852872  8.411476  8.370609  0.418770|\n",
      "   1900|  0.062891  0.361871  0.240391  0.218459  0.113885|  7.784488  8.852872  8.411476  8.360407  0.420876|\n",
      "   2000|  0.062891  0.361871  0.240393  0.240951  0.111118|  7.784488  8.852872  8.410497  8.281827  0.420399|\n",
      "   2100|  0.062891  0.361871  0.240393  0.234879  0.110973|  7.784488  8.852872  8.410497  8.304251  0.417657|\n",
      "   2200|  0.062277  0.361871  0.241265  0.232839  0.115465|  7.784488  8.854636  8.410497  8.300265  0.432437|\n",
      "   2300|  0.062277  0.361871  0.240777  0.230310  0.122676|  7.784488  8.854636  8.410497  8.293700  0.454794|\n",
      "   2400|  0.062277  0.361871  0.240391  0.224660  0.125339|  7.784488  8.854636  8.411476  8.308365  0.461623|\n",
      "   2500|  0.062277  0.361871  0.245395  0.235304  0.122948|  7.784488  8.854636  8.410497  8.270305  0.453219|\n",
      "   2600|  0.062277  0.361871  0.293257  0.255175  0.118569|  7.784488  8.854636  7.990029  8.192470  0.442316|\n",
      "   2700|  0.062277  0.361871  0.318963  0.258384  0.119271|  7.784488  8.854636  7.914008  8.172285  0.442474|\n",
      "   2800|  0.062277  0.369835  0.286685  0.235665  0.124051|  7.784488  8.854636  8.015853  8.266142  0.455335|\n",
      "   2900|  0.062187  0.369835  0.240607  0.202748  0.120588|  7.784488  8.854637  8.410987  8.394131  0.435069|\n",
      "   3000|  0.062187  0.369835  0.122424  0.140635  0.091811|  7.784488  8.854637  8.707438  8.651567  0.255492|\n"
     ]
    }
   ],
   "source": [
    "# environmental conditions\n",
    "envcond = {'EX_glc__D_e'  : (-15.0, 100000.0),\n",
    "           'EX_o2_e' : (0,100000.0)}\n",
    "\n",
    "# Define the target\n",
    "PRODUCT_ID = 'EX_lac__D_e'\n",
    "BIOMASS_ID = 'BIOMASS_Ec_iML1515_core_75p37M'\n",
    "UPTAKE_ID = 'EX_glc__D_e'\n",
    "\n",
    "# Optimization objectives\n",
    "from mewpy.optimization.evaluation import  BPCY, WYIELD\n",
    "evaluator_1 = BPCY(BIOMASS_ID, PRODUCT_ID, UPTAKE_ID, method='pFBA')\n",
    "evaluator_2 = WYIELD(BIOMASS_ID, PRODUCT_ID)\n",
    "\n",
    "#from mewpy.problems import RKOProblem\n",
    "#problem = RKOProblem(model, fevaluation=[evaluator_1, evaluator_2], envcond=envcond)\n",
    "\n",
    "from mewpy.problems import ROUProblem\n",
    "problem = ROUProblem(model, fevaluation=[evaluator_1, evaluator_2], envcond=envcond, candidate_max_size = 5)\n",
    "\n",
    "from mewpy.optimization import EA\n",
    "ea = EA(problem, max_generations= 30, visualizer=True)\n",
    "final_pop2 = ea.run()"
   ]
  },
  {
   "cell_type": "code",
   "execution_count": 51,
   "id": "2d2197ee",
   "metadata": {},
   "outputs": [
    {
     "data": {
      "text/plain": [
       "[[0.06227710776986589, 8.854635960505819];{'ACOAD5f': 0, 'ACOAD1fr': 0.03125, 'A5PISO': 0.125, 'MTHFC': 0.03125},\n",
       " [0.12570695307510207, 8.705248203073612];{'FACOAE160': 32, 'A5PISO': 0.25, 'ACOAD1fr': 0.03125, 'MTHFC': 0.03125},\n",
       " [0.2453950629217673, 8.410496406147203];{'FACOAE160': 32, 'TMPK': 0.5, 'ACOAD1fr': 0.03125, 'MTHFC': 0.03125},\n",
       " [0.12318566651331354, 8.705248203073616];{'A5PISO': 0.25, 'ACOAD1fr': 0.03125, 'MTHFC': 0.03125},\n",
       " [0.24077723863697004, 8.410496406147255];{'TMPK': 0.5, 'ACOAD1fr': 0.03125, 'MTHFC': 0.03125},\n",
       " [0.24315533956881252, 8.410496406147226];{'FACOAE160': 16, 'TMPK': 0.5, 'ACOAD5f': 0.03125, 'MTHFC': 0.03125},\n",
       " [0.06413317348194823, 8.852624327494032];{'FACOAE160': 32, 'IPMD': 0.125, 'ACOAD1fr': 0.0625},\n",
       " [0.06245775996121621, 8.854569089257225];{'IPMD': 0.125, 'MTHFC': 0},\n",
       " [0.0630036156697067, 8.852868948987712];{'FACOAE160': 0, 'ACOAD1fr': 0.03125, 'MTHFC': 0.03125, 'DTMPK': 0.125},\n",
       " [0.06299323551177322, 8.852868948987712];{'FACOAE160': 0, 'ACOAD5f': 0.03125, 'MTHFC': 0.03125, 'DTMPK': 0.125},\n",
       " [0.06299323551177322, 8.852868948987712];{'FACOAE160': 0, 'ACOAD5f': 0.03125, 'IPMD': 0.125, 'MTHFC': 0.03125},\n",
       " [0.369834673318557, 8.02202625356475];{'ACOAD7f': 0.125, 'EX_etoh_e': 0},\n",
       " [0.06218649846442259, 8.854636183378462];{'ACOAD5f': 0, 'ACOAD1fr': 0.03125, 'A5PISO': 0.125},\n",
       " [0.06310471833205034, 8.85262432749403];{'IPMD': 0.125, 'ACOAD1fr': 0.03125, 'MTHFC': 0.03125},\n",
       " [0.12185816446008524, 8.709137732563468];{'A5PISO': 0.25, 'MTHFC': 0},\n",
       " [0.12535775354617354, 8.70524820307362];{'FACOAE160': 32, 'A5PISO': 0.25, 'ACOAD1fr': 0.03125},\n",
       " [0.06413734139532029, 8.852624327494032];{'FACOAE160': 32, 'ACOAD1fr': 0.03125, 'DTMPK': 0.125},\n",
       " [0.062186498464422806, 8.854636183378458];{'ACOAD5f': 0, 'ACOAD1fr': 0.03125, 'IPMD': 0.125},\n",
       " [0.12564270794176938, 8.705248203073616];{'FACOAE160': 32, 'A5PISO': 0.25, 'MTHFC': 0.03125},\n",
       " [0.3618705033811518, 7.784486567936504];{'EX_etoh_e': 0.03125},\n",
       " [0.2866846867667433, 8.009675735401032];{'FACOAE160': 32, 'ACOAD1fr': 0.03125, 'EX_etoh_e': 0.03125},\n",
       " [0.3562485432316455, 7.8859234338832];{'EX_etoh_e': 0, 'ACOAD5f': 0, 'MTHFC': 0.03125}]"
      ]
     },
     "execution_count": 51,
     "metadata": {},
     "output_type": "execute_result"
    }
   ],
   "source": [
    "final_pop2"
   ]
  },
  {
   "cell_type": "markdown",
   "id": "898e941b",
   "metadata": {},
   "source": [
    "### D-lactato - RKO"
   ]
  },
  {
   "cell_type": "code",
   "execution_count": 47,
   "id": "958e1eaf",
   "metadata": {
    "scrolled": false
   },
   "outputs": [
    {
     "name": "stdout",
     "output_type": "stream",
     "text": [
      "Building modification target list.\n",
      "Computing essential reactions\n"
     ]
    },
    {
     "name": "stderr",
     "output_type": "stream",
     "text": [
      "  5%|███▋                                                                           | 125/2712 [00:12<04:03, 10.61it/s]C:\\Users\\rober\\anaconda3\\lib\\site-packages\\cobra\\util\\solver.py:508: UserWarning: Solver status is 'infeasible'.\n",
      "  warn(f\"Solver status is '{status}'.\", UserWarning)\n",
      "100%|██████████████████████████████████████████████████████████████████████████████| 2712/2712 [04:11<00:00, 10.80it/s]\n"
     ]
    },
    {
     "name": "stdout",
     "output_type": "stream",
     "text": [
      "Running NSGAII\n"
     ]
    },
    {
     "data": {
      "image/png": "[encoded data removed]",
      "text/plain": [
       "<Figure size 432x288 with 1 Axes>"
      ]
     },
     "metadata": {
      "needs_background": "light"
     },
     "output_type": "display_data"
    },
    {
     "name": "stdout",
     "output_type": "stream",
     "text": [
      "Eval(s)|     Worst      Best    Median   Average   Std Dev|     Worst      Best    Median   Average   Std Dev|\n",
      "    100|  0.000000  0.370323  0.000000  0.007014  0.049180|  0.000000  8.020531  0.036768  0.186761  1.061459|\n",
      "    200|  0.000000  0.370323  0.000000  0.014421  0.070729|  0.036768  8.020531  0.036768  0.347817  1.525519|\n",
      "    300|  0.000000  0.370323  0.000000  0.043263  0.117304|  0.036768  8.020531  0.036768  0.969915  2.530040|\n",
      "    400|  0.000000  0.370323  0.000000  0.136801  0.175063|  0.036768  26.544164  0.036768  3.172820  4.418026|\n",
      "    500|  0.000000  0.370323  0.370323  0.338510  0.087107|  0.036768  26.544164  8.020531  8.453306  4.937012|\n",
      "    600|  0.354431  0.370323  0.370323  0.370100  0.001590|  8.020531  26.544164  8.020531  10.798738  6.613198|\n",
      "    700|  0.368581  0.370323  0.370323  0.370216  0.000201|  8.020531  26.559609  8.020531  15.059667  8.991317|\n",
      "    800|  0.368581  0.370323  0.370320  0.370208  0.000202|  8.020531  26.559609  8.020541  15.615377  9.110724|\n",
      "    900|  0.368581  0.370323  0.370320  0.370166  0.000303|  8.020531  26.559609  8.020541  16.541869  9.232634|\n",
      "   1000|  0.368578  0.370323  0.370081  0.370131  0.000338|  8.020531  26.559642  26.544164  18.023918  9.232705|\n",
      "   1100|  0.368578  0.370323  0.370081  0.370078  0.000427|  8.020531  26.559642  26.544164  18.580093  9.171546|\n",
      "   1200|  0.368578  0.370323  0.370081  0.369984  0.000554|  8.020531  26.559642  26.544164  18.951492  9.112219|\n",
      "   1300|  0.368578  0.370323  0.370081  0.369847  0.000662|  8.020531  26.559642  26.544164  20.249383  8.777142|\n",
      "   1400|  0.368578  0.370323  0.370081  0.369772  0.000696|  8.020531  26.559642  26.544164  21.361421  8.319506|\n",
      "   1500|  0.368578  0.370323  0.370081  0.369755  0.000704|  8.020531  26.559642  26.544164  21.546811  8.226191|\n",
      "   1600|  0.368578  0.370323  0.370077  0.369692  0.000735|  8.020531  26.559642  26.544198  21.732666  8.127853|\n",
      "   1700|  0.368578  0.370323  0.370077  0.369665  0.000751|  8.020531  26.559642  26.544198  21.547738  8.226755|\n",
      "   1800|  0.368578  0.370323  0.370081  0.369729  0.000724|  8.020531  26.559642  26.544164  21.176648  8.408092|\n",
      "   1900|  0.368578  0.370323  0.370081  0.369717  0.000734|  8.020531  26.559642  26.544164  20.991564  8.491533|\n",
      "   2000|  0.368505  0.370323  0.370081  0.369714  0.000733|  8.020531  26.560387  26.544164  21.176808  8.408195|\n",
      "   2100|  0.368505  0.370323  0.370081  0.369760  0.000711|  8.020531  26.560387  26.544164  20.991116  8.491239|\n",
      "   2200|  0.368502  0.370323  0.370081  0.369730  0.000729|  8.020531  26.560420  26.544164  20.991433  8.491447|\n",
      "   2300|  0.368502  0.370323  0.370077  0.369674  0.000753|  8.020531  26.560420  26.544198  21.547645  8.226698|\n",
      "   2400|  0.368502  0.370323  0.370077  0.369674  0.000758|  8.020531  26.560420  26.544198  21.362433  8.320136|\n",
      "   2500|  0.368502  0.370323  0.370080  0.369722  0.000736|  8.020531  26.560420  26.544172  21.176725  8.408142|\n",
      "   2600|  0.368502  0.370323  0.370079  0.369762  0.000724|  8.020531  26.560420  26.544180  20.435464  8.712922|\n",
      "   2700|  0.368502  0.370323  0.370079  0.369740  0.000728|  8.020531  26.560420  26.544180  20.991329  8.491379|\n",
      "   2800|  0.368502  0.370323  0.370079  0.369737  0.000732|  8.020531  26.560420  26.544180  20.991353  8.491394|\n",
      "   2900|  0.368502  0.370323  0.370079  0.369714  0.000738|  8.020531  26.560420  26.544180  21.547232  8.226446|\n",
      "   3000|  0.368316  0.370323  0.370079  0.369719  0.000746|  8.020531  26.562334  26.544180  20.991543  8.491518|\n"
     ]
    }
   ],
   "source": [
    "# environmental conditions\n",
    "envcond = {'EX_glc__D_e'  : (-15.0, 100000.0),\n",
    "           'EX_o2_e' : (0,100000.0)}\n",
    "\n",
    "# Define the target\n",
    "PRODUCT_ID = 'EX_lac__D_e'\n",
    "BIOMASS_ID = 'BIOMASS_Ec_iML1515_core_75p37M'\n",
    "UPTAKE_ID = 'EX_glc__D_e'\n",
    "\n",
    "# Optimization objectives\n",
    "from mewpy.optimization.evaluation import  BPCY, WYIELD\n",
    "evaluator_1 = BPCY(BIOMASS_ID, PRODUCT_ID, UPTAKE_ID, method='pFBA')\n",
    "evaluator_2 = WYIELD(BIOMASS_ID, PRODUCT_ID)\n",
    "\n",
    "#from mewpy.problems import RKOProblem\n",
    "#problem = RKOProblem(model, fevaluation=[evaluator_1, evaluator_2], envcond=envcond)\n",
    "\n",
    "from mewpy.problems import RKOProblem\n",
    "problem = RKOProblem(model, fevaluation=[evaluator_1, evaluator_2], envcond=envcond, candidate_max_size = 5)\n",
    "\n",
    "from mewpy.optimization import EA\n",
    "ea = EA(problem, max_generations= 30, visualizer=True)\n",
    "final_pop3 = ea.run()"
   ]
  },
  {
   "cell_type": "code",
   "execution_count": 48,
   "id": "3cf951de",
   "metadata": {},
   "outputs": [
    {
     "data": {
      "text/plain": [
       "[[0.3703226574862162, 8.020528973353564];{'ACALD': 0},\n",
       " [0.3683158614915255, 26.562341103516907];{'ACOAD6f': 0, 'ACKr': 0, 'ACALD': 0},\n",
       " [0.3700803194305872, 26.544171601337318];{'ACKr': 0, 'ACALD': 0},\n",
       " [0.3703178757177117, 8.020543619044009];{'I4FE4ST': 0, 'ADNK1': 0, 'ACALD': 0},\n",
       " [0.36858064634190096, 26.55961628111601];{'ACALD': 0, 'ACKr': 0, 'CYTK1': 0},\n",
       " [0.37007554480781973, 26.54422080612077];{'I4FE4ST': 0, 'ACALD': 0, 'PPM': 0, 'ACKr': 0},\n",
       " [0.3685018069867585, 26.560427659873916];{'DURIPP': 0, 'ACKr': 0, 'PPM': 0, 'CYTK1': 0, 'ACALD': 0},\n",
       " [0.3685050396606445, 26.560394391771972];{'DURIPP': 0, 'ACKr': 0, 'CYTK1': 0, 'ACALD': 0},\n",
       " [0.3685759095575169, 26.55966503153417];{'I4FE4ST': 0, 'PPM': 0, 'ACKr': 0, 'CYTK1': 0, 'ACALD': 0},\n",
       " [0.36850353742819714, 26.56040985156336];{'I4FE4ST': 0, 'DURIPP': 0, 'ACKr': 0, 'CYTK1': 0, 'ACALD': 0},\n",
       " [0.3703211403775507, 8.020533619989498];{'I4FE4ST': 0, 'ACALD': 0},\n",
       " [0.37031939280017184, 8.020538972502171];{'ACALD': 0, 'PPM': 0},\n",
       " [0.37007880458903303, 26.544187212526467];{'I4FE4ST': 0, 'ACALD': 0, 'ACKr': 0},\n",
       " [0.3700770596232054, 26.544205195241176];{'PPM': 0, 'ACKr': 0, 'ACALD': 0},\n",
       " [0.3685774123681234, 26.55964956480796];{'PPM': 0, 'ACKr': 0, 'CYTK1': 0, 'ACALD': 0},\n",
       " [0.3685791435053563, 26.559631748148867];{'I4FE4ST': 0, 'ACKr': 0, 'CYTK1': 0, 'ACALD': 0},\n",
       " [0.3703178757177136, 8.020543619044462];{'I4FE4ST': 0, 'PPM': 0, 'ACALD': 0},\n",
       " [0.370319392800164, 8.020538972502012];{'ADNK1': 0, 'ACALD': 0}]"
      ]
     },
     "execution_count": 48,
     "metadata": {},
     "output_type": "execute_result"
    }
   ],
   "source": [
    "final_pop3"
   ]
  },
  {
   "cell_type": "code",
   "execution_count": null,
   "id": "b7f50652",
   "metadata": {},
   "outputs": [],
   "source": []
  },
  {
   "cell_type": "markdown",
   "id": "1409d6e2",
   "metadata": {},
   "source": [
    "Os resultdos mostram que apenas para as simulações feitas ao D-lactato é que foi possível melhorar o fluxo e ao mesmo tempo manter a produção de biomassa positiva. Desta forma, selecionou-se uma das soluções de entre as apresentadas que parece ser a mais razoável de se aplicar e que tem um valor elevado de fluxo de lactato e de biomassa associado:\n",
    "- **[0.3700803194305872, 26.544171601337318] ; {'ACKr': 0, 'ACALD': 0}**"
   ]
  },
  {
   "cell_type": "code",
   "execution_count": 10,
   "id": "97062384",
   "metadata": {
    "scrolled": true
   },
   "outputs": [
    {
     "name": "stdout",
     "output_type": "stream",
     "text": [
      "   Reaction ID  Flux rate\n",
      "0  EX_lac__D_e  26.668039\n",
      "\n",
      "{'EX_lac__D_e': [11.570203860940747, 27.230339294122086]}\n",
      "\n",
      "\n",
      "                      Reaction ID  Flux rate\n",
      "0  BIOMASS_Ec_iML1515_core_75p37M   0.208159\n",
      "\n",
      "{'BIOMASS_Ec_iML1515_core_75p37M': [0.18734351937956611, 0.20815946597729315]}\n"
     ]
    }
   ],
   "source": [
    "const = {\"ACKr\":(0,0), \"ACALD\":(0,0), 'EX_glc__D_e'  : (-15.0, 100000.0), 'EX_o2_e' : (0,10000)}\n",
    "result = simul.simulate(method=\"pFBA\", constraints = const)\n",
    "\n",
    "print(result.find(\"EX_lac__D_e\"))\n",
    "print()\n",
    "print(simul.FVA(reactions=[\"EX_lac__D_e\"], constraints = const))\n",
    "print()\n",
    "print()\n",
    "print(result.find(\"BIOMASS_Ec_iML1515_core_75p37M\"))\n",
    "print()\n",
    "print(simul.FVA(reactions=[\"BIOMASS_Ec_iML1515_core_75p37M\"], constraints = const))"
   ]
  },
  {
   "cell_type": "markdown",
   "id": "fca1a024",
   "metadata": {},
   "source": [
    "Conclui-se que, de acordo com a previsão do modelo, ao meter o valor do fluxo de ACKr e ACALD nulo, obtemos um fluxo de D-lactato de valor 26.67 e um fluxo de biomassa de valor "
   ]
  },
  {
   "cell_type": "code",
   "execution_count": null,
   "id": "bc00123b",
   "metadata": {},
   "outputs": [],
   "source": []
  },
  {
   "cell_type": "code",
   "execution_count": null,
   "id": "185aed04",
   "metadata": {},
   "outputs": [],
   "source": []
  },
  {
   "cell_type": "markdown",
   "id": "f79dd4da",
   "metadata": {},
   "source": [
    "### (Ver quais os fluxos de outros compostos que foram afetados)"
   ]
  },
  {
   "cell_type": "code",
   "execution_count": 27,
   "id": "649e7851",
   "metadata": {
    "scrolled": true
   },
   "outputs": [
    {
     "name": "stdout",
     "output_type": "stream",
     "text": [
      "('ACALD', -12.881)\n",
      "('PTAr', 12.87)\n",
      "('ACKr', -12.87)\n",
      "('ALCD2x', -12.881)\n",
      "('NDPK2', 0.113)\n",
      "('NDPK3', 0.048)\n",
      "('NDPK4', 0.007)\n",
      "('NDPK1', 0.21)\n",
      "('GLUt2rpp', -0.001)\n",
      "('GLUt4pp', 0.001)\n",
      "('ETOHtex', -12.881)\n",
      "('EX_etoh_e', 12.881)\n",
      "('ETOHtrpp', -12.881)\n"
     ]
    }
   ],
   "source": [
    "const1 = {'EX_glc__D_e'  : (-15.0, 100000.0), 'EX_o2_e' : (0,10000)}\n",
    "result1 = simul.simulate(method=\"pFBA\", constraints = const1)\n",
    "\n",
    "const2 = {\"ACKr\":(0,0), \"ACALD\":(0,0), 'EX_glc__D_e'  : (-15.0, 100000.0), 'EX_o2_e' : (0,10000)}\n",
    "result2 = simul.simulate(method=\"pFBA\", constraints = const2)\n",
    "\n",
    "fluxes = []\n",
    "\n",
    "for f in result1.fluxes:\n",
    "    if (result1.fluxes[f] != 0) and (result2.fluxes[f] == 0):\n",
    "        fluxes.append((f, round(result1.fluxes[f],3)))\n",
    "\n",
    "for f in fluxes:\n",
    "    print(f)"
   ]
  },
  {
   "cell_type": "markdown",
   "id": "cb610075",
   "metadata": {},
   "source": [
    "(Agora retirando os fluxos negativos (ou seja, de consumo)):"
   ]
  },
  {
   "cell_type": "code",
   "execution_count": 28,
   "id": "8977a322",
   "metadata": {},
   "outputs": [
    {
     "name": "stdout",
     "output_type": "stream",
     "text": [
      "('PTAr', 12.87)\n",
      "('NDPK2', 0.113)\n",
      "('NDPK3', 0.048)\n",
      "('NDPK4', 0.007)\n",
      "('NDPK1', 0.21)\n",
      "('GLUt4pp', 0.001)\n",
      "('EX_etoh_e', 12.881)\n"
     ]
    }
   ],
   "source": [
    "fluxes = []\n",
    "\n",
    "for f in result1.fluxes:\n",
    "    if (result1.fluxes[f] > 0) and (result2.fluxes[f] == 0):\n",
    "        fluxes.append((f, round(result1.fluxes[f],3)))\n",
    "\n",
    "for f in fluxes:\n",
    "    print(f)"
   ]
  }
 ],
 "metadata": {
  "kernelspec": {
   "display_name": "Python 3",
   "language": "python",
   "name": "python3"
  },
  "language_info": {
   "codemirror_mode": {
    "name": "ipython",
    "version": 3
   },
   "file_extension": ".py",
   "mimetype": "text/x-python",
   "name": "python",
   "nbconvert_exporter": "python",
   "pygments_lexer": "ipython3",
   "version": "3.8.8"
  }
 },
 "nbformat": 4,
 "nbformat_minor": 5
}
