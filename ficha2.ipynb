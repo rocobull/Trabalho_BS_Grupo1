{
 "cells": [
  {
   "cell_type": "markdown",
   "id": "ae9e06f4-d343-4ca8-8b1d-0df74c2496aa",
   "metadata": {},
   "source": [
    "# Ficha 2 (Avaliação)"
   ]
  },
  {
   "cell_type": "markdown",
   "id": "0144f26f-94b0-4900-8d7a-1e13d62b1e0b",
   "metadata": {},
   "source": [
    "### b) Taxa de crescimento em condições ambientais ótimas e produtos excretados nessas condições"
   ]
  },
  {
   "cell_type": "code",
   "execution_count": 45,
   "id": "2db7046e-d37c-49fb-99ea-e802aa98d118",
   "metadata": {},
   "outputs": [],
   "source": [
    "from reframed.io.sbml import load_cbmodel\n",
    "from mewpy.simulation import get_simulator, get_default_solver, set_default_solver"
   ]
  },
  {
   "cell_type": "code",
   "execution_count": 46,
   "id": "e72bfa0b-a327-4302-b176-aa4c6afb93be",
   "metadata": {},
   "outputs": [],
   "source": [
    "model = load_cbmodel('iNJ661_middlebrook_ficha2.xml',flavor='cobra')"
   ]
  },
  {
   "cell_type": "code",
   "execution_count": 3,
   "id": "adafc76c-62ba-4f5d-a109-2e78fa7ddef7",
   "metadata": {},
   "outputs": [
    {
     "data": {
      "text/plain": [
       "'cplex'"
      ]
     },
     "execution_count": 3,
     "metadata": {},
     "output_type": "execute_result"
    }
   ],
   "source": [
    "get_default_solver()"
   ]
  },
  {
   "cell_type": "code",
   "execution_count": 47,
   "id": "f6a04e87-ea5d-4f14-9585-d61cb8b7b2c8",
   "metadata": {},
   "outputs": [],
   "source": [
    "set_default_solver('gurobi')"
   ]
  },
  {
   "cell_type": "code",
   "execution_count": 48,
   "id": "392e630f-f1ec-420a-b528-575f1baa1176",
   "metadata": {
    "tags": []
   },
   "outputs": [],
   "source": [
    "simul = get_simulator(model)"
   ]
  },
  {
   "cell_type": "code",
   "execution_count": 49,
   "id": "01123797-7523-4e07-bc20-01c886776db5",
   "metadata": {
    "tags": []
   },
   "outputs": [
    {
     "name": "stdout",
     "output_type": "stream",
     "text": [
      "Metabolites: 826\n",
      "Reactions: 1022\n",
      "Genes: 0\n"
     ]
    }
   ],
   "source": [
    "simul.summary()\n",
    "#simul.genes[:10]\n",
    "#simul.reactions[:10]"
   ]
  },
  {
   "cell_type": "code",
   "execution_count": 70,
   "id": "09ffd93d-d916-41a5-9f8e-6e2faa5f523c",
   "metadata": {
    "tags": []
   },
   "outputs": [
    {
     "data": {
      "text/plain": [
       "{'R_biomass_Mtb_9_60atp': 1.0}"
      ]
     },
     "execution_count": 70,
     "metadata": {},
     "output_type": "execute_result"
    }
   ],
   "source": [
    "simul.objective"
   ]
  },
  {
   "cell_type": "code",
   "execution_count": 50,
   "id": "e3599014-638c-46b0-b4ff-e73133800489",
   "metadata": {},
   "outputs": [],
   "source": [
    "result = simul.simulate()"
   ]
  },
  {
   "cell_type": "code",
   "execution_count": 68,
   "id": "cbcb96f5-489c-4d3d-89a1-823f3cc9a831",
   "metadata": {},
   "outputs": [
    {
     "name": "stdout",
     "output_type": "stream",
     "text": [
      "objective: 0.0521994690017773\n",
      "Status: OPTIMAL\n",
      "Constraints: OrderedDict()\n",
      "Method:SimulationMethod.FBA\n"
     ]
    }
   ],
   "source": [
    "print(result)"
   ]
  },
  {
   "cell_type": "code",
   "execution_count": 89,
   "id": "2f7d4bdd-6930-4c86-aa7b-b83c07af7f02",
   "metadata": {},
   "outputs": [
    {
     "name": "stdout",
     "output_type": "stream",
     "text": [
      "R_EX_glu_DASH_L_LPAREN_e_RPAREN_ 0.658793211920325\n",
      "R_EX_h_LPAREN_e_RPAREN_ 2.6504300905765845\n",
      "R_EX_h2_LPAREN_e_RPAREN_ 1.0745259648858694\n",
      "R_EX_h2co3_LPAREN_e_RPAREN_ 0.9231070336098581\n",
      "R_EX_h2o_LPAREN_e_RPAREN_ 2.102597342112813\n",
      "R_EX_lac_DASH_L_LPAREN_e_RPAREN_ 0.7188478492329926\n",
      "R_EX_succ_LPAREN_e_RPAREN_ 0.12643579561653812\n"
     ]
    }
   ],
   "source": [
    "# procurar metabolitos excretados em condições ambientais ótimas\n",
    "import re\n",
    "padrao = re.compile(\"EX_.*\")\n",
    "metabolitos = []\n",
    "for k,v in result.fluxes.items():\n",
    "    if padrao.search(k) != None and result.fluxes[k] > 0:\n",
    "        metabolitos.append((k,v))\n",
    "        print(k,v)"
   ]
  },
  {
   "cell_type": "markdown",
   "id": "b7ba42ad-b275-42d0-bcb4-704b9fecec24",
   "metadata": {
    "jupyter": {
     "outputs_hidden": true
    },
    "tags": []
   },
   "source": [
    "### c) Lista dos genes e das reações que podem ser alvo de fármacos"
   ]
  },
  {
   "cell_type": "code",
   "execution_count": 44,
   "id": "7f7d5998-850a-49db-a94c-b44423688115",
   "metadata": {},
   "outputs": [
    {
     "data": {
      "text/plain": [
       "[]"
      ]
     },
     "execution_count": 44,
     "metadata": {},
     "output_type": "execute_result"
    }
   ],
   "source": [
    "# potenciais genes alvo\n",
    "simul.essential_genes()"
   ]
  },
  {
   "cell_type": "code",
   "execution_count": 79,
   "id": "282829c2-5487-4ac7-9a7f-a517d5c3fd18",
   "metadata": {
    "tags": []
   },
   "outputs": [
    {
     "name": "stdout",
     "output_type": "stream",
     "text": [
      "314\n"
     ]
    }
   ],
   "source": [
    "# potenciais reações alvo\n",
    "str(simul.essential_reactions())\n",
    "print(len(simul.essential_reactions()))"
   ]
  },
  {
   "cell_type": "markdown",
   "id": "6704577b-20d9-4db8-8dad-74296301d1da",
   "metadata": {},
   "source": [
    "### d) Escolher duas reações essenciais (uma presente em humanos e outra ausente) e testar o efeito do knockout das mesmas no crescimento microbiano"
   ]
  },
  {
   "cell_type": "markdown",
   "id": "05bd70d0-42f5-48ea-b387-8917c70631a4",
   "metadata": {
    "tags": []
   },
   "source": [
    "#### Verificação do impacto dos knockouts no crescimento microbiano"
   ]
  },
  {
   "cell_type": "code",
   "execution_count": 53,
   "id": "74dd61ea-d7a9-4cd6-b534-b026699e6cd9",
   "metadata": {},
   "outputs": [
    {
     "name": "stdout",
     "output_type": "stream",
     "text": [
      "0.0004123758051140407\n",
      "-1.0\n"
     ]
    }
   ],
   "source": [
    "# fluxos iniciais das reações \"R_AACPS11\" e \"R_EX_glyc_LPAREN_e_RPAREN_\"\n",
    "reaction1 = result.fluxes[\"R_AACPS11\"] # ausente em humanos\n",
    "reaction2 = result.fluxes[\"R_EX_glyc_LPAREN_e_RPAREN_\"] # presente em humanos\n",
    "print(reaction1)\n",
    "print(reaction2)"
   ]
  },
  {
   "cell_type": "code",
   "execution_count": 54,
   "id": "153d65c6-d3c3-4d53-a044-78ebe3afec05",
   "metadata": {},
   "outputs": [],
   "source": [
    "from mewpy.problems.reactions import RKOProblem"
   ]
  },
  {
   "cell_type": "code",
   "execution_count": 55,
   "id": "66b154f7-37cf-4089-9c35-46c6a4242651",
   "metadata": {},
   "outputs": [],
   "source": [
    "problem = RKOProblem(model,[])"
   ]
  },
  {
   "cell_type": "code",
   "execution_count": 57,
   "id": "7df4bf77-fab4-4d35-9a70-02a47ae937c5",
   "metadata": {
    "tags": []
   },
   "outputs": [
    {
     "name": "stdout",
     "output_type": "stream",
     "text": [
      "objective: -0.0\n",
      "Status: OPTIMAL\n",
      "Constraints: OrderedDict([('R_AACPS11', 0)])\n",
      "Method:FBA\n"
     ]
    }
   ],
   "source": [
    "# impacto do knockout de \"R_AACPS11\" no crescimento microbiano\n",
    "c1 = problem.solution_to_constraints({\"R_AACPS11\":0})\n",
    "result_ko1 = simul.simulate(method=\"FBA\",constraints=c1)\n",
    "print(result_ko1)\n",
    "# objective = 0 => não há crescimento microbiano"
   ]
  },
  {
   "cell_type": "code",
   "execution_count": 58,
   "id": "6da56af6-8803-4743-a604-feefb3008c83",
   "metadata": {
    "tags": []
   },
   "outputs": [
    {
     "name": "stdout",
     "output_type": "stream",
     "text": [
      "objective: -0.0\n",
      "Status: OPTIMAL\n",
      "Constraints: OrderedDict([('R_EX_glyc_LPAREN_e_RPAREN_', 0)])\n",
      "Method:FBA\n"
     ]
    }
   ],
   "source": [
    "# impacto do knockout de \"R_EX_glyc_LPAREN_e_RPAREN_\" no crescimento microbiano\n",
    "c2 = problem.solution_to_constraints({\"R_EX_glyc_LPAREN_e_RPAREN_\":0})\n",
    "result_ko2 = simul.simulate(method=\"FBA\",constraints=c2)\n",
    "print(result_ko2)\n",
    "# objective = 0 => não há crescimento microbiano"
   ]
  },
  {
   "cell_type": "markdown",
   "id": "881a39fa-25a5-487a-b215-5c5efa786c2d",
   "metadata": {},
   "source": [
    "#### Verificação do impacto dos knockouts noutras reações essenciais"
   ]
  },
  {
   "cell_type": "code",
   "execution_count": 60,
   "id": "e9726b9d-556b-4012-ba03-59ba85d17fba",
   "metadata": {},
   "outputs": [],
   "source": [
    "essential_reactions = simul.essential_reactions()"
   ]
  },
  {
   "cell_type": "code",
   "execution_count": 61,
   "id": "6a289188-2fa3-46d4-bb81-ec83cf52a1b9",
   "metadata": {},
   "outputs": [],
   "source": [
    "from pprint import pprint"
   ]
  },
  {
   "cell_type": "code",
   "execution_count": 88,
   "id": "1ef753b1-7e80-49f0-965f-6512df05e8c4",
   "metadata": {
    "tags": []
   },
   "outputs": [
    {
     "name": "stdout",
     "output_type": "stream",
     "text": [
      "fluxo_ko / fluxo_inicial < 0.1 -> 262\n",
      "fluxo_ko / fluxo_inicial > 10 -> 23\n"
     ]
    }
   ],
   "source": [
    "# impacto do knockout de \"R_AACPS11\" nas restantes reações essenciais\n",
    "\n",
    "# todos os valores de fluxo que foram alterados devido ao knockout\n",
    "dic_diff1 = {}\n",
    "for r in essential_reactions:\n",
    "    if result.fluxes[r] != result_ko1.fluxes[r]:\n",
    "        dic_diff1[r] = [result.fluxes[r],result_ko1.fluxes[r]]\n",
    "#pprint(dic_diff1)\n",
    "\n",
    "dic_menos1 = {} # fluxos que diminuíram para menos de um décimo do fluxo inicial\n",
    "dic_mais1 = {} # fluxos que aumentaram pelo menos 10 vezes em relação ao fluxo inicial\n",
    "num_menos1 = 0\n",
    "num_mais1 = 0\n",
    "for k,v in dic_diff1.items():\n",
    "    if v[1] / v[0] < 0.1:\n",
    "        dic_menos1[k] = f\"{(v[1] / v[0]) * 100:.2f}%\"\n",
    "        num_menos1 += 1\n",
    "    elif v[1] / v[0] > 10:\n",
    "        dic_mais1[k] = f\"{(v[1] / v[0]) * 100:.2f}%\"\n",
    "        num_mais1 += 1\n",
    "        \n",
    "#pprint(dic_menos1)\n",
    "#print()\n",
    "#pprint(dic_mais1)\n",
    "#print()\n",
    "print(f\"fluxo_ko / fluxo_inicial < 0.1 -> {num_menos1}\")\n",
    "print(f\"fluxo_ko / fluxo_inicial > 10 -> {num_mais1}\")"
   ]
  },
  {
   "cell_type": "code",
   "execution_count": 66,
   "id": "ae4b4dfc-5d3b-41a1-a610-52bb24b94561",
   "metadata": {
    "tags": []
   },
   "outputs": [
    {
     "name": "stdout",
     "output_type": "stream",
     "text": [
      "fluxo_ko / fluxo_inicial < 0.1 -> 269\n",
      "fluxo_ko / fluxo_inicial > 10 -> 35\n"
     ]
    }
   ],
   "source": [
    "# impacto do knockout de \"R_EX_glyc_LPAREN_e_RPAREN_\" nas restantes reações essenciais\n",
    "\n",
    "# todos os valores de fluxo que foram alterados devido ao knockout\n",
    "dic_diff2 = {}\n",
    "for r in essential_reactions:\n",
    "    if result.fluxes[r] != result_ko2.fluxes[r]:\n",
    "        dic_diff2[r] = [result.fluxes[r],result_ko2.fluxes[r]]\n",
    "#pprint(dic_diff2)\n",
    "\n",
    "dic_menos2 = {} # fluxos que diminuíram para menos de um décimo do fluxo inicial\n",
    "dic_mais2 = {} # fluxos que aumentaram pelo menos 10 vezes em relação ao fluxo inicial\n",
    "num_menos2 = 0\n",
    "num_mais2 = 0\n",
    "for k,v in dic_diff2.items():\n",
    "    if v[1] / v[0] < 0.1:\n",
    "        dic_menos2[k] = f\"{(v[1] / v[0]) * 100:.2f}%\"\n",
    "        num_menos2 += 1\n",
    "    elif v[1] / v[0] > 10:\n",
    "        dic_mais2[k] = f\"{(v[1] / v[0]) * 100:.2f}%\"\n",
    "        num_mais2 += 1\n",
    "        \n",
    "#pprint(dic_menos1)\n",
    "#print()\n",
    "#pprint(dic_mais1)\n",
    "#print()\n",
    "print(f\"fluxo_ko / fluxo_inicial < 0.1 -> {num_menos2}\")\n",
    "print(f\"fluxo_ko / fluxo_inicial > 10 -> {num_mais2}\")"
   ]
  },
  {
   "cell_type": "code",
   "execution_count": null,
   "id": "d8c2ed56-29ef-4d46-84b8-7b55c7580735",
   "metadata": {},
   "outputs": [],
   "source": []
  }
 ],
 "metadata": {
  "kernelspec": {
   "display_name": "Python 3",
   "language": "python",
   "name": "python3"
  },
  "language_info": {
   "codemirror_mode": {
    "name": "ipython",
    "version": 3
   },
   "file_extension": ".py",
   "mimetype": "text/x-python",
   "name": "python",
   "nbconvert_exporter": "python",
   "pygments_lexer": "ipython3",
   "version": "3.8.8"
  }
 },
 "nbformat": 4,
 "nbformat_minor": 5
}
